{
 "cells": [
  {
   "cell_type": "code",
   "execution_count": 6,
   "id": "92f8b0a5-240f-4d39-8f96-e4c722af867e",
   "metadata": {},
   "outputs": [],
   "source": [
    "import nltk"
   ]
  },
  {
   "cell_type": "code",
   "execution_count": 7,
   "id": "7d2fab4d-773e-448c-b384-5cc624e80280",
   "metadata": {},
   "outputs": [],
   "source": [
    "from nltk.corpus import twitter_samples"
   ]
  },
  {
   "cell_type": "code",
   "execution_count": 8,
   "id": "ca29b924-e58f-4309-b228-2b37b40a46a8",
   "metadata": {},
   "outputs": [],
   "source": [
    "import matplotlib.pyplot as plt"
   ]
  },
  {
   "cell_type": "code",
   "execution_count": 9,
   "id": "96d17465-453e-41ae-9b75-a683c9b582a3",
   "metadata": {},
   "outputs": [],
   "source": [
    "import random"
   ]
  },
  {
   "cell_type": "code",
   "execution_count": 18,
   "id": "dcb540dd-bf4b-4b0c-88ed-a5b8baea8fdf",
   "metadata": {},
   "outputs": [
    {
     "name": "stderr",
     "output_type": "stream",
     "text": [
      "[nltk_data] Downloading package twitter_samples to\n",
      "[nltk_data]     /home/ironduke/nltk_data...\n",
      "[nltk_data]   Package twitter_samples is already up-to-date!\n"
     ]
    },
    {
     "data": {
      "text/plain": [
       "True"
      ]
     },
     "execution_count": 18,
     "metadata": {},
     "output_type": "execute_result"
    }
   ],
   "source": [
    "nltk.download('twitter_samples')"
   ]
  },
  {
   "cell_type": "code",
   "execution_count": 19,
   "id": "90969de3-6f36-42d6-8162-7b7f1c1f59e0",
   "metadata": {},
   "outputs": [],
   "source": [
    "all_positive_tweets = twitter_samples.strings('positive_tweets.json')"
   ]
  },
  {
   "cell_type": "code",
   "execution_count": 20,
   "id": "25e12d4b-6304-4f16-bddd-fbe7aedf8c4e",
   "metadata": {},
   "outputs": [],
   "source": [
    "all_negative_tweets = twitter_samples.strings('negative_tweets.json')"
   ]
  },
  {
   "cell_type": "code",
   "execution_count": 21,
   "id": "41d56c51-deeb-46a8-88db-7e80dfecce2b",
   "metadata": {},
   "outputs": [
    {
     "name": "stdout",
     "output_type": "stream",
     "text": [
      "Number of positive tweets:  5000\n"
     ]
    }
   ],
   "source": [
    "print('Number of positive tweets: ', len(all_positive_tweets))"
   ]
  },
  {
   "cell_type": "code",
   "execution_count": 22,
   "id": "0a58bed4-3de9-4414-9ac2-0e65c72682d5",
   "metadata": {},
   "outputs": [
    {
     "name": "stdout",
     "output_type": "stream",
     "text": [
      "Number of negative tweets:  5000\n"
     ]
    }
   ],
   "source": [
    "print('Number of negative tweets: ', len(all_negative_tweets))"
   ]
  },
  {
   "cell_type": "code",
   "execution_count": 23,
   "id": "4a26fce4-227f-4ad0-ad19-31fe212fce8b",
   "metadata": {},
   "outputs": [
    {
     "name": "stdout",
     "output_type": "stream",
     "text": [
      "\n",
      "Type of all positive tweets:  <class 'list'>\n"
     ]
    }
   ],
   "source": [
    "print('\\nType of all positive tweets: ', type(all_positive_tweets))"
   ]
  },
  {
   "cell_type": "code",
   "execution_count": 24,
   "id": "0c93cc94-a99b-49c7-9a92-b57203a2fe33",
   "metadata": {},
   "outputs": [
    {
     "name": "stdout",
     "output_type": "stream",
     "text": [
      "The type of a tweet entry is:  <class 'str'>\n"
     ]
    }
   ],
   "source": [
    "print('The type of a tweet entry is: ', type(all_positive_tweets[0]))"
   ]
  },
  {
   "cell_type": "code",
   "execution_count": 25,
   "id": "6022503c-0b54-4386-8947-87ef27a728d5",
   "metadata": {},
   "outputs": [
    {
     "data": {
      "text/plain": [
       "<Figure size 360x360 with 0 Axes>"
      ]
     },
     "metadata": {},
     "output_type": "display_data"
    }
   ],
   "source": [
    "#Declare a figure with a custom size\n",
    "fig = plt.figure(figsize=(5,5))\n",
    "\n",
    "#Labels for the two classes\n",
    "labels = 'Positives', 'Negative'"
   ]
  },
  {
   "cell_type": "code",
   "execution_count": 26,
   "id": "4a38b3bd-e286-4537-9093-764c17ebf67b",
   "metadata": {},
   "outputs": [
    {
     "data": {
      "image/png": "[encoded data removed]",
      "text/plain": [
       "<Figure size 432x288 with 1 Axes>"
      ]
     },
     "metadata": {},
     "output_type": "display_data"
    }
   ],
   "source": [
    "#Sizes for each slide\n",
    "sizes = [len(all_positive_tweets), len(all_negative_tweets)]\n",
    "\n",
    "#Declare pie chart, where the slices will be orders and plotted counter-clockwise:\n",
    "plt.pie(sizes, labels=labels, autopct='%1.1f%%', shadow=True, startangle=90)\n",
    "\n",
    "#Equal aspect ratio ensures that pie is drawn as a circle\n",
    "plt.axis('equal')\n",
    "\n",
    "#Display the chart\n",
    "plt.show()"
   ]
  },
  {
   "cell_type": "code",
   "execution_count": 28,
   "id": "5b03e43c-f30e-439a-867f-802d916137be",
   "metadata": {},
   "outputs": [
    {
     "name": "stdout",
     "output_type": "stream",
     "text": [
      "\u001b[92m@loulou_lucia nice pic :)\n",
      "\u001b[91m@GBiebs17 FOLLOWED ME THANKS, AND\n",
      "@justinbieber PLEASE FOLLOWED ME TOO :(\n"
     ]
    }
   ],
   "source": [
    "#Print positive in green\n",
    "print('\\033[92m' + all_positive_tweets[random.randint(0, 5000)])\n",
    "\n",
    "#Print negative in red\n",
    "print('\\033[91m' + all_negative_tweets[random.randint(0, 5000)])"
   ]
  },
  {
   "cell_type": "code",
   "execution_count": 30,
   "id": "bcd1669e-5de2-4108-89ee-292846a65588",
   "metadata": {},
   "outputs": [
    {
     "name": "stdout",
     "output_type": "stream",
     "text": [
      "@AwesomeAngel40 Congratulations :-) x\n"
     ]
    }
   ],
   "source": [
    "#Selected sample.\n",
    "tweet = all_positive_tweets[2777]\n",
    "print(tweet)"
   ]
  },
  {
   "cell_type": "code",
   "execution_count": 31,
   "id": "19d14c37-8795-4af0-a47b-8be208fa2d96",
   "metadata": {},
   "outputs": [
    {
     "name": "stderr",
     "output_type": "stream",
     "text": [
      "[nltk_data] Downloading package stopwords to\n",
      "[nltk_data]     /home/ironduke/nltk_data...\n",
      "[nltk_data]   Unzipping corpora/stopwords.zip.\n"
     ]
    },
    {
     "data": {
      "text/plain": [
       "True"
      ]
     },
     "execution_count": 31,
     "metadata": {},
     "output_type": "execute_result"
    }
   ],
   "source": [
    "nltk.download('stopwords')"
   ]
  },
  {
   "cell_type": "code",
   "execution_count": 32,
   "id": "2e95d8a7-df92-4839-bfd6-79ad950db13c",
   "metadata": {},
   "outputs": [],
   "source": [
    "import re\n",
    "import string\n",
    "\n",
    "from nltk.corpus import stopwords\n",
    "from nltk.stem import PorterStemmer\n",
    "from nltk.tokenize import TweetTokenizer"
   ]
  },
  {
   "cell_type": "code",
   "execution_count": 33,
   "id": "217a0347-5ead-4fbc-bb54-bdcd0b733dc6",
   "metadata": {},
   "outputs": [
    {
     "name": "stdout",
     "output_type": "stream",
     "text": [
      "\u001b[92m@AwesomeAngel40 Congratulations :-) x\n",
      "\u001b[94m\n",
      "@AwesomeAngel40 Congratulations :-) x\n"
     ]
    }
   ],
   "source": [
    "# REMOVE HYPERLINKS, TWITTER MARKS AND STYLES\n",
    "\n",
    "print('\\033[92m' + tweet)\n",
    "print('\\033[94m')\n",
    "\n",
    "# Remove old style retweet text \"RT\"\n",
    "tweet2 = re.sub(r'^RT[\\s]+', '', tweet)\n",
    "\n",
    "# Remove hyperlinks\n",
    "tweet2 = re.sub(r'https?:\\/\\/.*[\\r\\n]*', '', tweet2)\n",
    "\n",
    "# Remove hashtags\n",
    "# Only removing the hash # sign from the word\n",
    "tweet2 = re.sub(r'#', '', tweet2)\n",
    "\n",
    "print(tweet2)"
   ]
  },
  {
   "cell_type": "code",
   "execution_count": 34,
   "id": "a008fbbc-f454-4886-9f20-b6bc9a55c08f",
   "metadata": {},
   "outputs": [
    {
     "name": "stdout",
     "output_type": "stream",
     "text": [
      "\n",
      "\u001b[92m@AwesomeAngel40 Congratulations :-) x\n",
      "\u001b[94m\n",
      "\n",
      "Tokenized string:\n",
      "['congratulations', ':-)', 'x']\n"
     ]
    }
   ],
   "source": [
    "#TOKENIZE THE STRING\n",
    "\n",
    "print()\n",
    "print('\\033[92m' + tweet2)\n",
    "print('\\033[94m')\n",
    "\n",
    "# Instantiate tokenizer class\n",
    "tokenizer = TweetTokenizer(preserve_case=False, strip_handles=True, reduce_len=True)\n",
    "\n",
    "# Tokenize tweets\n",
    "tweet_tokens = tokenizer.tokenize(tweet2)\n",
    "\n",
    "print()\n",
    "print('Tokenized string:')\n",
    "print(tweet_tokens)"
   ]
  },
  {
   "cell_type": "code",
   "execution_count": 35,
   "id": "9575e22b-dd65-4927-a7ef-ba63f1060a90",
   "metadata": {},
   "outputs": [
    {
     "name": "stdout",
     "output_type": "stream",
     "text": [
      "Stop words\n",
      "\n",
      "['i', 'me', 'my', 'myself', 'we', 'our', 'ours', 'ourselves', 'you', \"you're\", \"you've\", \"you'll\", \"you'd\", 'your', 'yours', 'yourself', 'yourselves', 'he', 'him', 'his', 'himself', 'she', \"she's\", 'her', 'hers', 'herself', 'it', \"it's\", 'its', 'itself', 'they', 'them', 'their', 'theirs', 'themselves', 'what', 'which', 'who', 'whom', 'this', 'that', \"that'll\", 'these', 'those', 'am', 'is', 'are', 'was', 'were', 'be', 'been', 'being', 'have', 'has', 'had', 'having', 'do', 'does', 'did', 'doing', 'a', 'an', 'the', 'and', 'but', 'if', 'or', 'because', 'as', 'until', 'while', 'of', 'at', 'by', 'for', 'with', 'about', 'against', 'between', 'into', 'through', 'during', 'before', 'after', 'above', 'below', 'to', 'from', 'up', 'down', 'in', 'out', 'on', 'off', 'over', 'under', 'again', 'further', 'then', 'once', 'here', 'there', 'when', 'where', 'why', 'how', 'all', 'any', 'both', 'each', 'few', 'more', 'most', 'other', 'some', 'such', 'no', 'nor', 'not', 'only', 'own', 'same', 'so', 'than', 'too', 'very', 's', 't', 'can', 'will', 'just', 'don', \"don't\", 'should', \"should've\", 'now', 'd', 'll', 'm', 'o', 're', 've', 'y', 'ain', 'aren', \"aren't\", 'couldn', \"couldn't\", 'didn', \"didn't\", 'doesn', \"doesn't\", 'hadn', \"hadn't\", 'hasn', \"hasn't\", 'haven', \"haven't\", 'isn', \"isn't\", 'ma', 'mightn', \"mightn't\", 'mustn', \"mustn't\", 'needn', \"needn't\", 'shan', \"shan't\", 'shouldn', \"shouldn't\", 'wasn', \"wasn't\", 'weren', \"weren't\", 'won', \"won't\", 'wouldn', \"wouldn't\"]\n",
      "\n",
      "Punctuation\n",
      "\n",
      "!\"#$%&'()*+,-./:;<=>?@[\\]^_`{|}~\n"
     ]
    }
   ],
   "source": [
    "#REMOVE STOP WORDS and PUNCTUATIONS\n",
    "\n",
    "# Import the english stop word list from NLTK\n",
    "stopwords_english = stopwords.words('english')\n",
    "\n",
    "print('Stop words\\n')\n",
    "print(stopwords_english)\n",
    "\n",
    "print('\\nPunctuation\\n')\n",
    "print(string.punctuation)"
   ]
  },
  {
   "cell_type": "code",
   "execution_count": 36,
   "id": "be679d76-5767-442f-a8ea-529ff3b36226",
   "metadata": {},
   "outputs": [
    {
     "name": "stdout",
     "output_type": "stream",
     "text": [
      "\n",
      "\u001b[92m\n",
      "['congratulations', ':-)', 'x']\n",
      "\u001b[94m\n",
      "remove stop words and punctuation:\n",
      "['congratulations', ':-)', 'x']\n"
     ]
    }
   ],
   "source": [
    "print()\n",
    "print('\\033[92m')\n",
    "print(tweet_tokens)\n",
    "print('\\033[94m')\n",
    "\n",
    "tweets_clean = []\n",
    "\n",
    "for word in tweet_tokens: # Go through every word in tokens list\n",
    "    if (word not in stopwords_english and word not in string.punctuation): # Remove stopwords and punctuation\n",
    "        tweets_clean.append(word)\n",
    "        \n",
    "print('remove stop words and punctuation:')\n",
    "print(tweets_clean)"
   ]
  },
  {
   "cell_type": "code",
   "execution_count": 42,
   "id": "8ca40bf8-1d1e-409a-9aed-3b30adb2fc23",
   "metadata": {},
   "outputs": [
    {
     "name": "stdout",
     "output_type": "stream",
     "text": [
      "\n",
      "\u001b[92m\n",
      "['congratulations', ':-)', 'x']\n",
      "\u001b[94m\n",
      "stemmed words:\n",
      "['congratul', ':-)', 'x']\n"
     ]
    }
   ],
   "source": [
    "# STEMMING\n",
    "\n",
    "print()\n",
    "print('\\033[92m')\n",
    "print(tweets_clean)\n",
    "print('\\033[94m')\n",
    "\n",
    "# Instantiate stemming class\n",
    "stemmer = PorterStemmer()\n",
    "\n",
    "# Create an empty list to store the stems\n",
    "tweets_stem = []\n",
    "\n",
    "for word in tweets_clean:\n",
    "    stem_word = stemmer.stem(word) # stemming word\n",
    "    tweets_stem.append(stem_word) # append to the list\n",
    "    \n",
    "print('stemmed words:')\n",
    "print(tweets_stem)"
   ]
  },
  {
   "cell_type": "code",
   "execution_count": null,
   "id": "b405caa1-8922-4115-99b7-5e370c75373f",
   "metadata": {},
   "outputs": [],
   "source": []
  }
 ],
 "metadata": {
  "kernelspec": {
   "display_name": "Python 3",
   "language": "python",
   "name": "python3"
  },
  "language_info": {
   "codemirror_mode": {
    "name": "ipython",
    "version": 3
   },
   "file_extension": ".py",
   "mimetype": "text/x-python",
   "name": "python",
   "nbconvert_exporter": "python",
   "pygments_lexer": "ipython3",
   "version": "3.8.8"
  }
 },
 "nbformat": 4,
 "nbformat_minor": 5
}
