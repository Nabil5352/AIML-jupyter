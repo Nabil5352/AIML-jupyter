{
 "cells": [
  {
   "cell_type": "code",
   "execution_count": 1,
   "id": "6363f042-6dd0-47c7-acb0-6af0a0b7c446",
   "metadata": {},
   "outputs": [],
   "source": [
    "import pandas as pd"
   ]
  },
  {
   "cell_type": "code",
   "execution_count": 3,
   "id": "42ce7db2-842e-4294-ad72-db009e02a857",
   "metadata": {},
   "outputs": [],
   "source": [
    "df = pd.read_csv('/home/ironduke/Workspace/jupyter/likes.csv')"
   ]
  },
  {
   "cell_type": "code",
   "execution_count": 10,
   "id": "1941b945-4ece-48f0-bd0e-ac40770d9248",
   "metadata": {},
   "outputs": [
    {
     "name": "stdout",
     "output_type": "stream",
     "text": [
      "Index(['picture', 'book', 'movie', 'controller'], dtype='object')\n"
     ]
    }
   ],
   "source": [
    "print(df.columns)"
   ]
  },
  {
   "cell_type": "code",
   "execution_count": null,
   "id": "60473435-e525-4c75-a80c-6b86c526d2cc",
   "metadata": {},
   "outputs": [],
   "source": []
  }
 ],
 "metadata": {
  "kernelspec": {
   "display_name": "Python 3",
   "language": "python",
   "name": "python3"
  },
  "language_info": {
   "codemirror_mode": {
    "name": "ipython",
    "version": 3
   },
   "file_extension": ".py",
   "mimetype": "text/x-python",
   "name": "python",
   "nbconvert_exporter": "python",
   "pygments_lexer": "ipython3",
   "version": "3.8.8"
  }
 },
 "nbformat": 4,
 "nbformat_minor": 5
}
