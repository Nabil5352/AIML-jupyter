{
 "cells": [
  {
   "cell_type": "code",
   "execution_count": 2,
   "id": "6363f042-6dd0-47c7-acb0-6af0a0b7c446",
   "metadata": {},
   "outputs": [],
   "source": [
    "import pandas as pd"
   ]
  },
  {
   "cell_type": "code",
   "execution_count": 4,
   "id": "42ce7db2-842e-4294-ad72-db009e02a857",
   "metadata": {},
   "outputs": [],
   "source": [
    "df = pd.read_csv('/home/ironduke/Workspace/AIML-jupyter/likes.csv')"
   ]
  },
  {
   "cell_type": "code",
   "execution_count": 5,
   "id": "1941b945-4ece-48f0-bd0e-ac40770d9248",
   "metadata": {},
   "outputs": [
    {
     "name": "stdout",
     "output_type": "stream",
     "text": [
      "  picture book movie controller\n",
      "0       +    -     +          +\n",
      "1       0    +     -          -\n",
      "2       +    +     -          0\n",
      "3       -    0     +          0\n",
      "4       +    +     0          -\n"
     ]
    }
   ],
   "source": [
    "print(df.head())"
   ]
  },
  {
   "cell_type": "code",
   "execution_count": 7,
   "id": "60473435-e525-4c75-a80c-6b86c526d2cc",
   "metadata": {},
   "outputs": [],
   "source": [
    "x = df.index.to_list()"
   ]
  },
  {
   "cell_type": "code",
   "execution_count": 8,
   "id": "9563aa52-11bc-47bf-b597-b7ca41842d7d",
   "metadata": {},
   "outputs": [
    {
     "name": "stdout",
     "output_type": "stream",
     "text": [
      "  picture book movie controller\n",
      "0       +    -     +          +\n",
      "2       +    +     -          0\n",
      "4       +    +     0          -\n",
      "3       -    0     +          0\n",
      "1       0    +     -          -\n"
     ]
    }
   ],
   "source": [
    "df = df.sort_values(by='picture')\n",
    "print(df)"
   ]
  },
  {
   "cell_type": "code",
   "execution_count": 10,
   "id": "ca19790b-f8cf-469d-aa7c-2101fdea17a8",
   "metadata": {},
   "outputs": [
    {
     "name": "stdout",
     "output_type": "stream",
     "text": [
      "picture       0\n",
      "book          +\n",
      "movie         -\n",
      "controller    -\n",
      "Name: 1, dtype: object\n",
      "==============\n",
      "picture       +\n",
      "book          +\n",
      "movie         -\n",
      "controller    0\n",
      "Name: 2, dtype: object\n",
      "==============\n",
      "Empty DataFrame\n",
      "Columns: [picture, book, movie, controller]\n",
      "Index: []\n"
     ]
    }
   ],
   "source": [
    "print(df.loc[1])\n",
    "print(\"==============\")\n",
    "print(df.iloc[1])\n",
    "print(\"==============\")\n",
    "print(df.loc[1:3])"
   ]
  },
  {
   "cell_type": "code",
   "execution_count": null,
   "id": "56543956-fa6a-4546-8dbd-bfb4d0ffe9aa",
   "metadata": {},
   "outputs": [],
   "source": []
  }
 ],
 "metadata": {
  "kernelspec": {
   "display_name": "Python 3",
   "language": "python",
   "name": "python3"
  },
  "language_info": {
   "codemirror_mode": {
    "name": "ipython",
    "version": 3
   },
   "file_extension": ".py",
   "mimetype": "text/x-python",
   "name": "python",
   "nbconvert_exporter": "python",
   "pygments_lexer": "ipython3",
   "version": "3.8.8"
  }
 },
 "nbformat": 4,
 "nbformat_minor": 5
}
